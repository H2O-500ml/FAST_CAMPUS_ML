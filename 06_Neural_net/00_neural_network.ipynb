{
 "cells": [
  {
   "cell_type": "markdown",
   "metadata": {},
   "source": [
    "# Feed-forward network a.k.a. Multi-layer perceptron\n",
    "- scikit-learn v0.18에서 서로 추가된 함수\n",
    "- sklearn.neural_network에 supervised learning 알고리즘으로 MLPClassifier와 MLPRegressor, 그리고 unsupervised learning 알고리즘으로 BernoulliRBM (Bernoulli Restricted Boltzmann Machine)이 추가되었음"
   ]
  },
  {
   "cell_type": "markdown",
   "metadata": {},
   "source": [
    "## 1. Wisconsin Breast Cancer problem"
   ]
  },
  {
   "cell_type": "code",
   "execution_count": 1,
   "metadata": {},
   "outputs": [],
   "source": [
    "import numpy as np\n",
    "import pandas as pd\n",
    "import matplotlib.pyplot as plt\n",
    "from sklearn import model_selection\n",
    "from sklearn.preprocessing import MinMaxScaler\n",
    "from sklearn.neural_network import MLPClassifier\n",
    "from sklearn.pipeline import Pipeline"
   ]
  },
  {
   "cell_type": "markdown",
   "metadata": {},
   "source": [
    "### Load dataset"
   ]
  },
  {
   "cell_type": "code",
   "execution_count": 2,
   "metadata": {},
   "outputs": [],
   "source": [
    "url = \"https://archive.ics.uci.edu/ml/machine-learning-databases/breast-cancer-wisconsin/breast-cancer-wisconsin.data\"\n",
    "names = ['Code', 'Clump-Thickness', 'Cell-Size', 'Cell-Shape', 'Adhesion', 'Single-Cell-Size', 'Bare-Nuclei', 'Chromatin', 'Nucleoli', 'Mitoses', 'Class']\n",
    "dataset = pd.read_csv(url, names=names)"
   ]
  },
  {
   "cell_type": "code",
   "execution_count": 3,
   "metadata": {},
   "outputs": [
    {
     "data": {
      "text/html": [
       "<div>\n",
       "<style scoped>\n",
       "    .dataframe tbody tr th:only-of-type {\n",
       "        vertical-align: middle;\n",
       "    }\n",
       "\n",
       "    .dataframe tbody tr th {\n",
       "        vertical-align: top;\n",
       "    }\n",
       "\n",
       "    .dataframe thead th {\n",
       "        text-align: right;\n",
       "    }\n",
       "</style>\n",
       "<table border=\"1\" class=\"dataframe\">\n",
       "  <thead>\n",
       "    <tr style=\"text-align: right;\">\n",
       "      <th></th>\n",
       "      <th>Code</th>\n",
       "      <th>Clump-Thickness</th>\n",
       "      <th>Cell-Size</th>\n",
       "      <th>Cell-Shape</th>\n",
       "      <th>Adhesion</th>\n",
       "      <th>Single-Cell-Size</th>\n",
       "      <th>Bare-Nuclei</th>\n",
       "      <th>Chromatin</th>\n",
       "      <th>Nucleoli</th>\n",
       "      <th>Mitoses</th>\n",
       "      <th>Class</th>\n",
       "    </tr>\n",
       "  </thead>\n",
       "  <tbody>\n",
       "    <tr>\n",
       "      <th>0</th>\n",
       "      <td>1000025</td>\n",
       "      <td>5</td>\n",
       "      <td>1</td>\n",
       "      <td>1</td>\n",
       "      <td>1</td>\n",
       "      <td>2</td>\n",
       "      <td>1</td>\n",
       "      <td>3</td>\n",
       "      <td>1</td>\n",
       "      <td>1</td>\n",
       "      <td>2</td>\n",
       "    </tr>\n",
       "    <tr>\n",
       "      <th>1</th>\n",
       "      <td>1002945</td>\n",
       "      <td>5</td>\n",
       "      <td>4</td>\n",
       "      <td>4</td>\n",
       "      <td>5</td>\n",
       "      <td>7</td>\n",
       "      <td>10</td>\n",
       "      <td>3</td>\n",
       "      <td>2</td>\n",
       "      <td>1</td>\n",
       "      <td>2</td>\n",
       "    </tr>\n",
       "    <tr>\n",
       "      <th>2</th>\n",
       "      <td>1015425</td>\n",
       "      <td>3</td>\n",
       "      <td>1</td>\n",
       "      <td>1</td>\n",
       "      <td>1</td>\n",
       "      <td>2</td>\n",
       "      <td>2</td>\n",
       "      <td>3</td>\n",
       "      <td>1</td>\n",
       "      <td>1</td>\n",
       "      <td>2</td>\n",
       "    </tr>\n",
       "    <tr>\n",
       "      <th>3</th>\n",
       "      <td>1016277</td>\n",
       "      <td>6</td>\n",
       "      <td>8</td>\n",
       "      <td>8</td>\n",
       "      <td>1</td>\n",
       "      <td>3</td>\n",
       "      <td>4</td>\n",
       "      <td>3</td>\n",
       "      <td>7</td>\n",
       "      <td>1</td>\n",
       "      <td>2</td>\n",
       "    </tr>\n",
       "    <tr>\n",
       "      <th>4</th>\n",
       "      <td>1017023</td>\n",
       "      <td>4</td>\n",
       "      <td>1</td>\n",
       "      <td>1</td>\n",
       "      <td>3</td>\n",
       "      <td>2</td>\n",
       "      <td>1</td>\n",
       "      <td>3</td>\n",
       "      <td>1</td>\n",
       "      <td>1</td>\n",
       "      <td>2</td>\n",
       "    </tr>\n",
       "    <tr>\n",
       "      <th>5</th>\n",
       "      <td>1017122</td>\n",
       "      <td>8</td>\n",
       "      <td>10</td>\n",
       "      <td>10</td>\n",
       "      <td>8</td>\n",
       "      <td>7</td>\n",
       "      <td>10</td>\n",
       "      <td>9</td>\n",
       "      <td>7</td>\n",
       "      <td>1</td>\n",
       "      <td>4</td>\n",
       "    </tr>\n",
       "    <tr>\n",
       "      <th>6</th>\n",
       "      <td>1018099</td>\n",
       "      <td>1</td>\n",
       "      <td>1</td>\n",
       "      <td>1</td>\n",
       "      <td>1</td>\n",
       "      <td>2</td>\n",
       "      <td>10</td>\n",
       "      <td>3</td>\n",
       "      <td>1</td>\n",
       "      <td>1</td>\n",
       "      <td>2</td>\n",
       "    </tr>\n",
       "    <tr>\n",
       "      <th>7</th>\n",
       "      <td>1018561</td>\n",
       "      <td>2</td>\n",
       "      <td>1</td>\n",
       "      <td>2</td>\n",
       "      <td>1</td>\n",
       "      <td>2</td>\n",
       "      <td>1</td>\n",
       "      <td>3</td>\n",
       "      <td>1</td>\n",
       "      <td>1</td>\n",
       "      <td>2</td>\n",
       "    </tr>\n",
       "    <tr>\n",
       "      <th>8</th>\n",
       "      <td>1033078</td>\n",
       "      <td>2</td>\n",
       "      <td>1</td>\n",
       "      <td>1</td>\n",
       "      <td>1</td>\n",
       "      <td>2</td>\n",
       "      <td>1</td>\n",
       "      <td>1</td>\n",
       "      <td>1</td>\n",
       "      <td>5</td>\n",
       "      <td>2</td>\n",
       "    </tr>\n",
       "    <tr>\n",
       "      <th>9</th>\n",
       "      <td>1033078</td>\n",
       "      <td>4</td>\n",
       "      <td>2</td>\n",
       "      <td>1</td>\n",
       "      <td>1</td>\n",
       "      <td>2</td>\n",
       "      <td>1</td>\n",
       "      <td>2</td>\n",
       "      <td>1</td>\n",
       "      <td>1</td>\n",
       "      <td>2</td>\n",
       "    </tr>\n",
       "  </tbody>\n",
       "</table>\n",
       "</div>"
      ],
      "text/plain": [
       "      Code  Clump-Thickness  Cell-Size  Cell-Shape  Adhesion  \\\n",
       "0  1000025                5          1           1         1   \n",
       "1  1002945                5          4           4         5   \n",
       "2  1015425                3          1           1         1   \n",
       "3  1016277                6          8           8         1   \n",
       "4  1017023                4          1           1         3   \n",
       "5  1017122                8         10          10         8   \n",
       "6  1018099                1          1           1         1   \n",
       "7  1018561                2          1           2         1   \n",
       "8  1033078                2          1           1         1   \n",
       "9  1033078                4          2           1         1   \n",
       "\n",
       "   Single-Cell-Size Bare-Nuclei  Chromatin  Nucleoli  Mitoses  Class  \n",
       "0                 2           1          3         1        1      2  \n",
       "1                 7          10          3         2        1      2  \n",
       "2                 2           2          3         1        1      2  \n",
       "3                 3           4          3         7        1      2  \n",
       "4                 2           1          3         1        1      2  \n",
       "5                 7          10          9         7        1      4  \n",
       "6                 2          10          3         1        1      2  \n",
       "7                 2           1          3         1        1      2  \n",
       "8                 2           1          1         1        5      2  \n",
       "9                 2           1          2         1        1      2  "
      ]
     },
     "execution_count": 3,
     "metadata": {},
     "output_type": "execute_result"
    }
   ],
   "source": [
    "dataset.head(10)"
   ]
  },
  {
   "cell_type": "code",
   "execution_count": 4,
   "metadata": {},
   "outputs": [],
   "source": [
    "# !pip install missingno"
   ]
  },
  {
   "cell_type": "code",
   "execution_count": 5,
   "metadata": {},
   "outputs": [
    {
     "data": {
      "text/plain": [
       "<matplotlib.axes._subplots.AxesSubplot at 0xb6c6240>"
      ]
     },
     "execution_count": 5,
     "metadata": {},
     "output_type": "execute_result"
    },
    {
     "data": {
      "image/png": "[encoded data removed]",
      "text/plain": [
       "<Figure size 1800x720 with 2 Axes>"
      ]
     },
     "metadata": {
      "needs_background": "light"
     },
     "output_type": "display_data"
    }
   ],
   "source": [
    "import missingno\n",
    "missingno.matrix(dataset)"
   ]
  },
  {
   "cell_type": "code",
   "execution_count": 6,
   "metadata": {
    "scrolled": true
   },
   "outputs": [
    {
     "data": {
      "text/plain": [
       "Code                 int64\n",
       "Clump-Thickness      int64\n",
       "Cell-Size            int64\n",
       "Cell-Shape           int64\n",
       "Adhesion             int64\n",
       "Single-Cell-Size     int64\n",
       "Bare-Nuclei         object\n",
       "Chromatin            int64\n",
       "Nucleoli             int64\n",
       "Mitoses              int64\n",
       "Class                int64\n",
       "dtype: object"
      ]
     },
     "execution_count": 6,
     "metadata": {},
     "output_type": "execute_result"
    }
   ],
   "source": [
    "dataset.dtypes # object는 숫자형이 아닌 자료형."
   ]
  },
  {
   "cell_type": "code",
   "execution_count": 7,
   "metadata": {},
   "outputs": [],
   "source": [
    "# delete code\n",
    "dataset.drop('Code', axis=1, inplace=True)\n",
    "# Bare-Nuclei 중간에 물음표들이 있네\n",
    "# mark ? as NaN\n",
    "dataset['Bare-Nuclei'] = dataset['Bare-Nuclei'].replace('?', np.NaN)"
   ]
  },
  {
   "cell_type": "code",
   "execution_count": 8,
   "metadata": {},
   "outputs": [
    {
     "data": {
      "text/plain": [
       "Clump-Thickness      int64\n",
       "Cell-Size            int64\n",
       "Cell-Shape           int64\n",
       "Adhesion             int64\n",
       "Single-Cell-Size     int64\n",
       "Bare-Nuclei         object\n",
       "Chromatin            int64\n",
       "Nucleoli             int64\n",
       "Mitoses              int64\n",
       "Class                int64\n",
       "dtype: object"
      ]
     },
     "execution_count": 8,
     "metadata": {},
     "output_type": "execute_result"
    }
   ],
   "source": [
    "dataset.dtypes\n",
    "# 왜 아직도 Bare-Nuclei가 object인가?\n",
    "# 소수점 자료 때문. 처리 필요. 아래에서 float으로 바꾸는 작업을 해 줌"
   ]
  },
  {
   "cell_type": "code",
   "execution_count": 9,
   "metadata": {
    "scrolled": true
   },
   "outputs": [
    {
     "data": {
      "text/html": [
       "<div>\n",
       "<style scoped>\n",
       "    .dataframe tbody tr th:only-of-type {\n",
       "        vertical-align: middle;\n",
       "    }\n",
       "\n",
       "    .dataframe tbody tr th {\n",
       "        vertical-align: top;\n",
       "    }\n",
       "\n",
       "    .dataframe thead th {\n",
       "        text-align: right;\n",
       "    }\n",
       "</style>\n",
       "<table border=\"1\" class=\"dataframe\">\n",
       "  <thead>\n",
       "    <tr style=\"text-align: right;\">\n",
       "      <th></th>\n",
       "      <th>Clump-Thickness</th>\n",
       "      <th>Cell-Size</th>\n",
       "      <th>Cell-Shape</th>\n",
       "      <th>Adhesion</th>\n",
       "      <th>Single-Cell-Size</th>\n",
       "      <th>Bare-Nuclei</th>\n",
       "      <th>Chromatin</th>\n",
       "      <th>Nucleoli</th>\n",
       "      <th>Mitoses</th>\n",
       "      <th>Class</th>\n",
       "    </tr>\n",
       "  </thead>\n",
       "  <tbody>\n",
       "    <tr>\n",
       "      <th>0</th>\n",
       "      <td>5</td>\n",
       "      <td>1</td>\n",
       "      <td>1</td>\n",
       "      <td>1</td>\n",
       "      <td>2</td>\n",
       "      <td>1.0</td>\n",
       "      <td>3</td>\n",
       "      <td>1</td>\n",
       "      <td>1</td>\n",
       "      <td>2</td>\n",
       "    </tr>\n",
       "    <tr>\n",
       "      <th>1</th>\n",
       "      <td>5</td>\n",
       "      <td>4</td>\n",
       "      <td>4</td>\n",
       "      <td>5</td>\n",
       "      <td>7</td>\n",
       "      <td>10.0</td>\n",
       "      <td>3</td>\n",
       "      <td>2</td>\n",
       "      <td>1</td>\n",
       "      <td>2</td>\n",
       "    </tr>\n",
       "    <tr>\n",
       "      <th>2</th>\n",
       "      <td>3</td>\n",
       "      <td>1</td>\n",
       "      <td>1</td>\n",
       "      <td>1</td>\n",
       "      <td>2</td>\n",
       "      <td>2.0</td>\n",
       "      <td>3</td>\n",
       "      <td>1</td>\n",
       "      <td>1</td>\n",
       "      <td>2</td>\n",
       "    </tr>\n",
       "    <tr>\n",
       "      <th>3</th>\n",
       "      <td>6</td>\n",
       "      <td>8</td>\n",
       "      <td>8</td>\n",
       "      <td>1</td>\n",
       "      <td>3</td>\n",
       "      <td>4.0</td>\n",
       "      <td>3</td>\n",
       "      <td>7</td>\n",
       "      <td>1</td>\n",
       "      <td>2</td>\n",
       "    </tr>\n",
       "    <tr>\n",
       "      <th>4</th>\n",
       "      <td>4</td>\n",
       "      <td>1</td>\n",
       "      <td>1</td>\n",
       "      <td>3</td>\n",
       "      <td>2</td>\n",
       "      <td>1.0</td>\n",
       "      <td>3</td>\n",
       "      <td>1</td>\n",
       "      <td>1</td>\n",
       "      <td>2</td>\n",
       "    </tr>\n",
       "  </tbody>\n",
       "</table>\n",
       "</div>"
      ],
      "text/plain": [
       "   Clump-Thickness  Cell-Size  Cell-Shape  Adhesion  Single-Cell-Size  \\\n",
       "0                5          1           1         1                 2   \n",
       "1                5          4           4         5                 7   \n",
       "2                3          1           1         1                 2   \n",
       "3                6          8           8         1                 3   \n",
       "4                4          1           1         3                 2   \n",
       "\n",
       "   Bare-Nuclei  Chromatin  Nucleoli  Mitoses  Class  \n",
       "0          1.0          3         1        1      2  \n",
       "1         10.0          3         2        1      2  \n",
       "2          2.0          3         1        1      2  \n",
       "3          4.0          3         7        1      2  \n",
       "4          1.0          3         1        1      2  "
      ]
     },
     "execution_count": 9,
     "metadata": {},
     "output_type": "execute_result"
    }
   ],
   "source": [
    "# url = \"https://archive.ics.uci.edu/ml/machine-learning-databases/breast-cancer-wisconsin/breast-cancer-wisconsin.data\"\n",
    "# names = ['Code', 'Clump-Thickness', 'Cell-Size', 'Cell-Shape', 'Adhesion', 'Single-Cell-Size', 'Bare-Nuclei', 'Chromatin', 'Nucleoli', 'Mitoses', 'Class']\n",
    "# dataset = pd.read_csv(url, names=names)\n",
    "\n",
    "# # delete code\n",
    "# dataset.drop('Code', axis=1, inplace=True)\n",
    "# # mark ? as NaN\n",
    "# dataset['Bare-Nuclei'] = dataset['Bare-Nuclei'].replace('?', np.NaN)\n",
    "# Convert the type of 'Bare-Nuclei' column as float\n",
    "dataset['Bare-Nuclei'] = dataset['Bare-Nuclei'].astype(float)\n",
    "# Drop NaN\n",
    "dataset.dropna(axis=0, how='any', inplace=True) # pd에서 제공하는 na 삭제 함수\n",
    "\n",
    "dataset.head(5)"
   ]
  },
  {
   "cell_type": "code",
   "execution_count": 10,
   "metadata": {},
   "outputs": [
    {
     "data": {
      "text/plain": [
       "Clump-Thickness       int64\n",
       "Cell-Size             int64\n",
       "Cell-Shape            int64\n",
       "Adhesion              int64\n",
       "Single-Cell-Size      int64\n",
       "Bare-Nuclei         float64\n",
       "Chromatin             int64\n",
       "Nucleoli              int64\n",
       "Mitoses               int64\n",
       "Class                 int64\n",
       "dtype: object"
      ]
     },
     "execution_count": 10,
     "metadata": {},
     "output_type": "execute_result"
    }
   ],
   "source": [
    "dataset.dtypes # 깔끔"
   ]
  },
  {
   "cell_type": "markdown",
   "metadata": {},
   "source": [
    "### Preparation"
   ]
  },
  {
   "cell_type": "code",
   "execution_count": 11,
   "metadata": {},
   "outputs": [],
   "source": [
    "# Split-out test dataset\n",
    "array = dataset.values\n",
    "X = array[:,0:9]\n",
    "Y = array[:,9]\n",
    "test_size = 0.20\n",
    "seed = 15\n",
    "X_train, X_test, Y_train, Y_test = model_selection.train_test_split(X, Y, test_size=test_size, random_state=seed)"
   ]
  },
  {
   "cell_type": "code",
   "execution_count": 12,
   "metadata": {},
   "outputs": [
    {
     "name": "stdout",
     "output_type": "stream",
     "text": [
      "(546, 9)\n",
      "(137, 9)\n"
     ]
    }
   ],
   "source": [
    "print(X_train.shape)\n",
    "print(X_test.shape)"
   ]
  },
  {
   "cell_type": "code",
   "execution_count": 31,
   "metadata": {},
   "outputs": [],
   "source": [
    "#SVM\n",
    "from sklearn.svm import SVC"
   ]
  },
  {
   "cell_type": "code",
   "execution_count": 34,
   "metadata": {},
   "outputs": [
    {
     "name": "stdout",
     "output_type": "stream",
     "text": [
      "0.9635036496350365\n",
      "              precision    recall  f1-score   support\n",
      "\n",
      "         2.0       0.99      0.95      0.97        81\n",
      "         4.0       0.93      0.98      0.96        56\n",
      "\n",
      "   micro avg       0.96      0.96      0.96       137\n",
      "   macro avg       0.96      0.97      0.96       137\n",
      "weighted avg       0.96      0.96      0.96       137\n",
      "\n"
     ]
    }
   ],
   "source": [
    "svc = SVC(C=1.0, kernel = 'rbf', gamma = 0.01)\n",
    "svc.fit(X_train, Y_train)\n",
    "Y_pred=svc.predict(X_test)\n",
    "\n",
    "from sklearn.metrics import accuracy_score, classification_report\n",
    "print(accuracy_score(Y_test, Y_pred))\n",
    "print(classification_report(Y_test, Y_pred))"
   ]
  },
  {
   "cell_type": "code",
   "execution_count": 13,
   "metadata": {},
   "outputs": [],
   "source": [
    "# MLPClassifier는 NN을 학습하는 함수\n",
    "# 활성함수는 relu가 default\n",
    "\n",
    "clf = MLPClassifier(hidden_layer_sizes=(9, 9), # 은닉층 9개, 9개로 두 층\n",
    "                    learning_rate_init=0.005,\n",
    "                    max_iter=300,\n",
    "                    random_state=1234,\n",
    "                    verbose=1) # verbose는 학습이 되고 있는 과정을 프린트 해 줌"
   ]
  },
  {
   "cell_type": "code",
   "execution_count": 14,
   "metadata": {},
   "outputs": [
    {
     "name": "stdout",
     "output_type": "stream",
     "text": [
      "Iteration 1, loss = 1.04238087\n",
      "Iteration 2, loss = 0.78684476\n",
      "Iteration 3, loss = 0.71554017\n",
      "Iteration 4, loss = 0.67658986\n",
      "Iteration 5, loss = 0.61031296\n",
      "Iteration 6, loss = 0.54524678\n",
      "Iteration 7, loss = 0.50749856\n",
      "Iteration 8, loss = 0.48147565\n",
      "Iteration 9, loss = 0.45216261\n",
      "Iteration 10, loss = 0.42064499\n",
      "Iteration 11, loss = 0.39593011\n",
      "Iteration 12, loss = 0.37715183\n",
      "Iteration 13, loss = 0.35846660\n",
      "Iteration 14, loss = 0.33793893\n",
      "Iteration 15, loss = 0.32000403\n",
      "Iteration 16, loss = 0.30413735\n",
      "Iteration 17, loss = 0.28854751\n",
      "Iteration 18, loss = 0.27337117\n",
      "Iteration 19, loss = 0.25890200\n",
      "Iteration 20, loss = 0.24790713\n",
      "Iteration 21, loss = 0.23855959\n",
      "Iteration 22, loss = 0.23042066\n",
      "Iteration 23, loss = 0.22260681\n",
      "Iteration 24, loss = 0.21517898\n",
      "Iteration 25, loss = 0.20839393\n",
      "Iteration 26, loss = 0.20235908\n",
      "Iteration 27, loss = 0.19689769\n",
      "Iteration 28, loss = 0.19278871\n",
      "Iteration 29, loss = 0.18806686\n",
      "Iteration 30, loss = 0.18463313\n",
      "Iteration 31, loss = 0.18036911\n",
      "Iteration 32, loss = 0.17800913\n",
      "Iteration 33, loss = 0.17375144\n",
      "Iteration 34, loss = 0.17080015\n",
      "Iteration 35, loss = 0.16767869\n",
      "Iteration 36, loss = 0.16378067\n",
      "Iteration 37, loss = 0.16158662\n",
      "Iteration 38, loss = 0.15843417\n",
      "Iteration 39, loss = 0.15548992\n",
      "Iteration 40, loss = 0.15339184\n",
      "Iteration 41, loss = 0.15046111\n",
      "Iteration 42, loss = 0.14759824\n",
      "Iteration 43, loss = 0.14541244\n",
      "Iteration 44, loss = 0.14400786\n",
      "Iteration 45, loss = 0.14109393\n",
      "Iteration 46, loss = 0.13960028\n",
      "Iteration 47, loss = 0.13587306\n",
      "Iteration 48, loss = 0.13387412\n",
      "Iteration 49, loss = 0.13271603\n",
      "Iteration 50, loss = 0.12984030\n",
      "Iteration 51, loss = 0.12901649\n",
      "Iteration 52, loss = 0.12573262\n",
      "Iteration 53, loss = 0.12543409\n",
      "Iteration 54, loss = 0.12319796\n",
      "Iteration 55, loss = 0.11925836\n",
      "Iteration 56, loss = 0.11802042\n",
      "Iteration 57, loss = 0.11624822\n",
      "Iteration 58, loss = 0.11362709\n",
      "Iteration 59, loss = 0.11157841\n",
      "Iteration 60, loss = 0.10931969\n",
      "Iteration 61, loss = 0.10746392\n",
      "Iteration 62, loss = 0.10579303\n",
      "Iteration 63, loss = 0.10408258\n",
      "Iteration 64, loss = 0.10241599\n",
      "Iteration 65, loss = 0.10056775\n",
      "Iteration 66, loss = 0.09932123\n",
      "Iteration 67, loss = 0.09795223\n",
      "Iteration 68, loss = 0.09665227\n",
      "Iteration 69, loss = 0.09495387\n",
      "Iteration 70, loss = 0.09310049\n",
      "Iteration 71, loss = 0.09158492\n",
      "Iteration 72, loss = 0.08987888\n",
      "Iteration 73, loss = 0.08859469\n",
      "Iteration 74, loss = 0.08692588\n",
      "Iteration 75, loss = 0.08660066\n",
      "Iteration 76, loss = 0.08467921\n",
      "Iteration 77, loss = 0.08322721\n",
      "Iteration 78, loss = 0.08222328\n",
      "Iteration 79, loss = 0.08044605\n",
      "Iteration 80, loss = 0.08041440\n",
      "Iteration 81, loss = 0.07876257\n",
      "Iteration 82, loss = 0.07825515\n",
      "Iteration 83, loss = 0.07631600\n",
      "Iteration 84, loss = 0.07534463\n",
      "Iteration 85, loss = 0.07452848\n",
      "Iteration 86, loss = 0.07348896\n",
      "Iteration 87, loss = 0.07232454\n",
      "Iteration 88, loss = 0.07132067\n",
      "Iteration 89, loss = 0.07031885\n",
      "Iteration 90, loss = 0.06990786\n",
      "Iteration 91, loss = 0.06959652\n",
      "Iteration 92, loss = 0.06840163\n",
      "Iteration 93, loss = 0.06806362\n",
      "Iteration 94, loss = 0.06808555\n",
      "Iteration 95, loss = 0.06657955\n",
      "Iteration 96, loss = 0.06592171\n",
      "Iteration 97, loss = 0.06618044\n",
      "Iteration 98, loss = 0.06504953\n",
      "Iteration 99, loss = 0.06450439\n",
      "Iteration 100, loss = 0.06433752\n",
      "Iteration 101, loss = 0.06404046\n",
      "Iteration 102, loss = 0.06360045\n",
      "Iteration 103, loss = 0.06326097\n",
      "Iteration 104, loss = 0.06541489\n",
      "Iteration 105, loss = 0.06266779\n",
      "Iteration 106, loss = 0.06267406\n",
      "Iteration 107, loss = 0.06156712\n",
      "Iteration 108, loss = 0.06203950\n",
      "Iteration 109, loss = 0.06112261\n",
      "Iteration 110, loss = 0.06049427\n",
      "Iteration 111, loss = 0.06108525\n",
      "Iteration 112, loss = 0.06014436\n",
      "Iteration 113, loss = 0.06156570\n",
      "Iteration 114, loss = 0.06127823\n",
      "Iteration 115, loss = 0.06057510\n",
      "Iteration 116, loss = 0.05922064\n",
      "Iteration 117, loss = 0.06116855\n",
      "Iteration 118, loss = 0.05878274\n",
      "Iteration 119, loss = 0.06162503\n",
      "Iteration 120, loss = 0.05967848\n",
      "Iteration 121, loss = 0.05946769\n",
      "Iteration 122, loss = 0.05767257\n",
      "Iteration 123, loss = 0.06058553\n",
      "Iteration 124, loss = 0.05833904\n",
      "Iteration 125, loss = 0.05732848\n",
      "Iteration 126, loss = 0.05957802\n",
      "Iteration 127, loss = 0.05796616\n",
      "Iteration 128, loss = 0.05954960\n",
      "Iteration 129, loss = 0.05741935\n",
      "Iteration 130, loss = 0.06061055\n",
      "Iteration 131, loss = 0.05704007\n",
      "Iteration 132, loss = 0.06150307\n",
      "Iteration 133, loss = 0.05774894\n",
      "Iteration 134, loss = 0.05974931\n",
      "Iteration 135, loss = 0.05663611\n",
      "Iteration 136, loss = 0.05781665\n",
      "Iteration 137, loss = 0.05870089\n",
      "Iteration 138, loss = 0.05615891\n",
      "Iteration 139, loss = 0.05723962\n",
      "Iteration 140, loss = 0.05665092\n",
      "Iteration 141, loss = 0.05617429\n",
      "Iteration 142, loss = 0.05626946\n",
      "Iteration 143, loss = 0.05520515\n",
      "Iteration 144, loss = 0.05584542\n",
      "Iteration 145, loss = 0.05606003\n",
      "Iteration 146, loss = 0.05482794\n",
      "Iteration 147, loss = 0.05512069\n",
      "Iteration 148, loss = 0.05534851\n",
      "Iteration 149, loss = 0.05489854\n",
      "Iteration 150, loss = 0.05513342\n",
      "Iteration 151, loss = 0.05529204\n",
      "Iteration 152, loss = 0.05444822\n",
      "Iteration 153, loss = 0.05644185\n",
      "Iteration 154, loss = 0.05429694\n",
      "Iteration 155, loss = 0.05486484\n",
      "Iteration 156, loss = 0.05492919\n",
      "Iteration 157, loss = 0.05394148\n",
      "Iteration 158, loss = 0.05443719\n",
      "Iteration 159, loss = 0.05438888\n",
      "Iteration 160, loss = 0.05379976\n",
      "Iteration 161, loss = 0.05450398\n",
      "Iteration 162, loss = 0.05603339\n",
      "Iteration 163, loss = 0.05460358\n",
      "Iteration 164, loss = 0.05448957\n",
      "Iteration 165, loss = 0.05414894\n",
      "Iteration 166, loss = 0.05464367\n",
      "Iteration 167, loss = 0.05376438\n",
      "Iteration 168, loss = 0.05418786\n",
      "Iteration 169, loss = 0.05363862\n",
      "Iteration 170, loss = 0.05411278\n",
      "Iteration 171, loss = 0.05383212\n",
      "Iteration 172, loss = 0.05361936\n",
      "Iteration 173, loss = 0.05446657\n",
      "Iteration 174, loss = 0.05385631\n",
      "Iteration 175, loss = 0.05468901\n",
      "Iteration 176, loss = 0.05424602\n",
      "Iteration 177, loss = 0.05386060\n",
      "Iteration 178, loss = 0.05366755\n",
      "Iteration 179, loss = 0.05336699\n",
      "Iteration 180, loss = 0.05555981\n",
      "Iteration 181, loss = 0.05267585\n",
      "Iteration 182, loss = 0.05271721\n",
      "Iteration 183, loss = 0.05366262\n",
      "Iteration 184, loss = 0.05291514\n",
      "Iteration 185, loss = 0.05253496\n",
      "Iteration 186, loss = 0.05278706\n",
      "Iteration 187, loss = 0.05229039\n",
      "Iteration 188, loss = 0.05185530\n",
      "Iteration 189, loss = 0.05285644\n",
      "Iteration 190, loss = 0.05218664\n",
      "Iteration 191, loss = 0.05177225\n",
      "Iteration 192, loss = 0.05225735\n",
      "Iteration 193, loss = 0.05207663\n",
      "Iteration 194, loss = 0.05283353\n",
      "Iteration 195, loss = 0.05240791\n",
      "Iteration 196, loss = 0.05197540\n",
      "Iteration 197, loss = 0.05240762\n",
      "Iteration 198, loss = 0.05140538\n",
      "Iteration 199, loss = 0.05118426\n",
      "Iteration 200, loss = 0.05121071\n",
      "Iteration 201, loss = 0.05111537\n",
      "Iteration 202, loss = 0.05110994\n",
      "Iteration 203, loss = 0.05095078\n",
      "Iteration 204, loss = 0.05103091\n",
      "Iteration 205, loss = 0.05075329\n",
      "Iteration 206, loss = 0.05101554\n",
      "Iteration 207, loss = 0.05129849\n",
      "Iteration 208, loss = 0.05117751\n",
      "Iteration 209, loss = 0.05082598\n",
      "Iteration 210, loss = 0.05403703\n",
      "Iteration 211, loss = 0.05151057\n",
      "Iteration 212, loss = 0.05219283\n",
      "Iteration 213, loss = 0.05074588\n",
      "Iteration 214, loss = 0.05217219\n",
      "Iteration 215, loss = 0.05190112\n",
      "Iteration 216, loss = 0.05200241\n",
      "Training loss did not improve more than tol=0.000100 for 10 consecutive epochs. Stopping.\n"
     ]
    },
    {
     "data": {
      "text/plain": [
       "MLPClassifier(activation='relu', alpha=0.0001, batch_size='auto', beta_1=0.9,\n",
       "       beta_2=0.999, early_stopping=False, epsilon=1e-08,\n",
       "       hidden_layer_sizes=(9, 9), learning_rate='constant',\n",
       "       learning_rate_init=0.005, max_iter=300, momentum=0.9,\n",
       "       n_iter_no_change=10, nesterovs_momentum=True, power_t=0.5,\n",
       "       random_state=1234, shuffle=True, solver='adam', tol=0.0001,\n",
       "       validation_fraction=0.1, verbose=1, warm_start=False)"
      ]
     },
     "execution_count": 14,
     "metadata": {},
     "output_type": "execute_result"
    }
   ],
   "source": [
    "clf.fit(X_train, Y_train)"
   ]
  },
  {
   "cell_type": "code",
   "execution_count": 15,
   "metadata": {},
   "outputs": [],
   "source": [
    "Y_train_hat = clf.predict(X_train)\n",
    "Y_test_hat = clf.predict(X_test)"
   ]
  },
  {
   "cell_type": "code",
   "execution_count": 16,
   "metadata": {},
   "outputs": [],
   "source": [
    "from sklearn import metrics"
   ]
  },
  {
   "cell_type": "code",
   "execution_count": 17,
   "metadata": {
    "scrolled": false
   },
   "outputs": [
    {
     "name": "stdout",
     "output_type": "stream",
     "text": [
      "              precision    recall  f1-score   support\n",
      "\n",
      "         2.0       0.98      0.98      0.98       363\n",
      "         4.0       0.97      0.96      0.96       183\n",
      "\n",
      "   micro avg       0.97      0.97      0.97       546\n",
      "   macro avg       0.97      0.97      0.97       546\n",
      "weighted avg       0.97      0.97      0.97       546\n",
      "\n"
     ]
    }
   ],
   "source": [
    "print(metrics.classification_report(Y_train, Y_train_hat))"
   ]
  },
  {
   "cell_type": "code",
   "execution_count": 18,
   "metadata": {
    "scrolled": true
   },
   "outputs": [
    {
     "name": "stdout",
     "output_type": "stream",
     "text": [
      "              precision    recall  f1-score   support\n",
      "\n",
      "         2.0       0.91      0.99      0.95        81\n",
      "         4.0       0.98      0.86      0.91        56\n",
      "\n",
      "   micro avg       0.93      0.93      0.93       137\n",
      "   macro avg       0.94      0.92      0.93       137\n",
      "weighted avg       0.94      0.93      0.93       137\n",
      "\n"
     ]
    }
   ],
   "source": [
    "print(metrics.classification_report(Y_test, Y_test_hat))"
   ]
  },
  {
   "cell_type": "markdown",
   "metadata": {},
   "source": [
    "# k-fold cross validation"
   ]
  },
  {
   "cell_type": "code",
   "execution_count": 19,
   "metadata": {},
   "outputs": [],
   "source": [
    "from sklearn.model_selection import GridSearchCV"
   ]
  },
  {
   "cell_type": "markdown",
   "metadata": {},
   "source": [
    "### RF로 실습"
   ]
  },
  {
   "cell_type": "code",
   "execution_count": 20,
   "metadata": {},
   "outputs": [],
   "source": [
    "# Random Forest를 GridSearchCV로 학습하기\n",
    "from sklearn.ensemble import RandomForestClassifier\n"
   ]
  },
  {
   "cell_type": "code",
   "execution_count": 21,
   "metadata": {},
   "outputs": [],
   "source": [
    "?RandomForestClassifier"
   ]
  },
  {
   "cell_type": "markdown",
   "metadata": {},
   "source": [
    "하이퍼파라미터 선언"
   ]
  },
  {
   "cell_type": "code",
   "execution_count": 22,
   "metadata": {},
   "outputs": [],
   "source": [
    "params = {'n_estimators':[50, 75, 100],\n",
    "         'max_features':[5, 7]}"
   ]
  },
  {
   "cell_type": "markdown",
   "metadata": {},
   "source": [
    "모델 학습"
   ]
  },
  {
   "cell_type": "code",
   "execution_count": 23,
   "metadata": {},
   "outputs": [],
   "source": [
    "rf = GridSearchCV(estimator = RandomForestClassifier(random_state = 123),\n",
    "                 param_grid=params,\n",
    "                 cv = 5,\n",
    "                 verbose = 1) # verbose는 학습과정을 보여주는 것"
   ]
  },
  {
   "cell_type": "code",
   "execution_count": 24,
   "metadata": {},
   "outputs": [
    {
     "name": "stdout",
     "output_type": "stream",
     "text": [
      "Fitting 5 folds for each of 6 candidates, totalling 30 fits\n"
     ]
    },
    {
     "name": "stderr",
     "output_type": "stream",
     "text": [
      "[Parallel(n_jobs=1)]: Using backend SequentialBackend with 1 concurrent workers.\n",
      "[Parallel(n_jobs=1)]: Done  30 out of  30 | elapsed:    2.1s finished\n"
     ]
    },
    {
     "data": {
      "text/plain": [
       "GridSearchCV(cv=5, error_score='raise-deprecating',\n",
       "       estimator=RandomForestClassifier(bootstrap=True, class_weight=None, criterion='gini',\n",
       "            max_depth=None, max_features='auto', max_leaf_nodes=None,\n",
       "            min_impurity_decrease=0.0, min_impurity_split=None,\n",
       "            min_samples_leaf=1, min_samples_split=2,\n",
       "            min_weight_fraction_leaf=0.0, n_estimators='warn', n_jobs=None,\n",
       "            oob_score=False, random_state=123, verbose=0, warm_start=False),\n",
       "       fit_params=None, iid='warn', n_jobs=None,\n",
       "       param_grid={'n_estimators': [50, 75, 100], 'max_features': [5, 7]},\n",
       "       pre_dispatch='2*n_jobs', refit=True, return_train_score='warn',\n",
       "       scoring=None, verbose=1)"
      ]
     },
     "execution_count": 24,
     "metadata": {},
     "output_type": "execute_result"
    }
   ],
   "source": [
    "rf.fit(X_train, Y_train)"
   ]
  },
  {
   "cell_type": "markdown",
   "metadata": {},
   "source": [
    "테스트"
   ]
  },
  {
   "cell_type": "code",
   "execution_count": 25,
   "metadata": {},
   "outputs": [],
   "source": [
    "Y_pred = rf.predict(X_test)"
   ]
  },
  {
   "cell_type": "code",
   "execution_count": 26,
   "metadata": {},
   "outputs": [
    {
     "name": "stdout",
     "output_type": "stream",
     "text": [
      "0.9416058394160584\n"
     ]
    }
   ],
   "source": [
    "print(metrics.accuracy_score(Y_test, Y_pred))"
   ]
  },
  {
   "cell_type": "code",
   "execution_count": 27,
   "metadata": {},
   "outputs": [
    {
     "name": "stderr",
     "output_type": "stream",
     "text": [
      "C:\\Users\\50008313\\AppData\\Local\\Continuum\\anaconda3\\lib\\site-packages\\sklearn\\utils\\deprecation.py:125: FutureWarning: You are accessing a training score ('split0_train_score'), which will not be available by default any more in 0.21. If you need training scores, please set return_train_score=True\n",
      "  warnings.warn(*warn_args, **warn_kwargs)\n",
      "C:\\Users\\50008313\\AppData\\Local\\Continuum\\anaconda3\\lib\\site-packages\\sklearn\\utils\\deprecation.py:125: FutureWarning: You are accessing a training score ('split1_train_score'), which will not be available by default any more in 0.21. If you need training scores, please set return_train_score=True\n",
      "  warnings.warn(*warn_args, **warn_kwargs)\n",
      "C:\\Users\\50008313\\AppData\\Local\\Continuum\\anaconda3\\lib\\site-packages\\sklearn\\utils\\deprecation.py:125: FutureWarning: You are accessing a training score ('split2_train_score'), which will not be available by default any more in 0.21. If you need training scores, please set return_train_score=True\n",
      "  warnings.warn(*warn_args, **warn_kwargs)\n",
      "C:\\Users\\50008313\\AppData\\Local\\Continuum\\anaconda3\\lib\\site-packages\\sklearn\\utils\\deprecation.py:125: FutureWarning: You are accessing a training score ('split3_train_score'), which will not be available by default any more in 0.21. If you need training scores, please set return_train_score=True\n",
      "  warnings.warn(*warn_args, **warn_kwargs)\n",
      "C:\\Users\\50008313\\AppData\\Local\\Continuum\\anaconda3\\lib\\site-packages\\sklearn\\utils\\deprecation.py:125: FutureWarning: You are accessing a training score ('split4_train_score'), which will not be available by default any more in 0.21. If you need training scores, please set return_train_score=True\n",
      "  warnings.warn(*warn_args, **warn_kwargs)\n",
      "C:\\Users\\50008313\\AppData\\Local\\Continuum\\anaconda3\\lib\\site-packages\\sklearn\\utils\\deprecation.py:125: FutureWarning: You are accessing a training score ('mean_train_score'), which will not be available by default any more in 0.21. If you need training scores, please set return_train_score=True\n",
      "  warnings.warn(*warn_args, **warn_kwargs)\n",
      "C:\\Users\\50008313\\AppData\\Local\\Continuum\\anaconda3\\lib\\site-packages\\sklearn\\utils\\deprecation.py:125: FutureWarning: You are accessing a training score ('std_train_score'), which will not be available by default any more in 0.21. If you need training scores, please set return_train_score=True\n",
      "  warnings.warn(*warn_args, **warn_kwargs)\n"
     ]
    },
    {
     "data": {
      "text/plain": [
       "{'mean_fit_time': array([0.04019995, 0.06079998, 0.07819996, 0.0408    , 0.06259995,\n",
       "        0.08280005]),\n",
       " 'std_fit_time': array([0.00193893, 0.00193911, 0.00116616, 0.00074843, 0.00185481,\n",
       "        0.0026382 ]),\n",
       " 'mean_score_time': array([0.00400004, 0.00539994, 0.00719991, 0.00359993, 0.0052001 ,\n",
       "        0.00700002]),\n",
       " 'std_score_time': array([0.00063249, 0.00048988, 0.00039999, 0.00079998, 0.00040009,\n",
       "        0.00063249]),\n",
       " 'param_max_features': masked_array(data=[5, 5, 5, 7, 7, 7],\n",
       "              mask=[False, False, False, False, False, False],\n",
       "        fill_value='?',\n",
       "             dtype=object),\n",
       " 'param_n_estimators': masked_array(data=[50, 75, 100, 50, 75, 100],\n",
       "              mask=[False, False, False, False, False, False],\n",
       "        fill_value='?',\n",
       "             dtype=object),\n",
       " 'params': [{'max_features': 5, 'n_estimators': 50},\n",
       "  {'max_features': 5, 'n_estimators': 75},\n",
       "  {'max_features': 5, 'n_estimators': 100},\n",
       "  {'max_features': 7, 'n_estimators': 50},\n",
       "  {'max_features': 7, 'n_estimators': 75},\n",
       "  {'max_features': 7, 'n_estimators': 100}],\n",
       " 'split0_test_score': array([0.97272727, 0.97272727, 0.97272727, 0.97272727, 0.97272727,\n",
       "        0.97272727]),\n",
       " 'split1_test_score': array([0.97272727, 0.97272727, 0.96363636, 0.96363636, 0.97272727,\n",
       "        0.96363636]),\n",
       " 'split2_test_score': array([0.95454545, 0.94545455, 0.94545455, 0.94545455, 0.94545455,\n",
       "        0.95454545]),\n",
       " 'split3_test_score': array([0.98148148, 0.99074074, 0.99074074, 0.98148148, 0.98148148,\n",
       "        0.98148148]),\n",
       " 'split4_test_score': array([0.9537037 , 0.9537037 , 0.9537037 , 0.94444444, 0.93518519,\n",
       "        0.93518519]),\n",
       " 'mean_test_score': array([0.96703297, 0.96703297, 0.96520147, 0.96153846, 0.96153846,\n",
       "        0.96153846]),\n",
       " 'std_test_score': array([0.01099625, 0.01591203, 0.01567259, 0.01465248, 0.01784947,\n",
       "        0.01587462]),\n",
       " 'rank_test_score': array([1, 1, 3, 4, 4, 4]),\n",
       " 'split0_train_score': array([1., 1., 1., 1., 1., 1.]),\n",
       " 'split1_train_score': array([1., 1., 1., 1., 1., 1.]),\n",
       " 'split2_train_score': array([1., 1., 1., 1., 1., 1.]),\n",
       " 'split3_train_score': array([1., 1., 1., 1., 1., 1.]),\n",
       " 'split4_train_score': array([1., 1., 1., 1., 1., 1.]),\n",
       " 'mean_train_score': array([1., 1., 1., 1., 1., 1.]),\n",
       " 'std_train_score': array([0., 0., 0., 0., 0., 0.])}"
      ]
     },
     "execution_count": 27,
     "metadata": {},
     "output_type": "execute_result"
    }
   ],
   "source": [
    "rf.cv_results_"
   ]
  },
  {
   "cell_type": "code",
   "execution_count": 28,
   "metadata": {},
   "outputs": [
    {
     "data": {
      "text/plain": [
       "{'max_features': 5, 'n_estimators': 50}"
      ]
     },
     "execution_count": 28,
     "metadata": {},
     "output_type": "execute_result"
    }
   ],
   "source": [
    "rf.best_params_"
   ]
  },
  {
   "cell_type": "code",
   "execution_count": 29,
   "metadata": {},
   "outputs": [
    {
     "data": {
      "text/plain": [
       "0.967032967032967"
      ]
     },
     "execution_count": 29,
     "metadata": {},
     "output_type": "execute_result"
    }
   ],
   "source": [
    "rf.best_score_"
   ]
  },
  {
   "cell_type": "markdown",
   "metadata": {},
   "source": [
    "### Neural Network로 실습"
   ]
  },
  {
   "cell_type": "code",
   "execution_count": 41,
   "metadata": {},
   "outputs": [],
   "source": [
    "params = {\n",
    "    'activation': ['logistic', 'tanh', 'relu'], # 활성함수 종류\n",
    "    'hidden_layer_sizes': [(9,), (9, 9)]\n",
    "}"
   ]
  },
  {
   "cell_type": "code",
   "execution_count": 48,
   "metadata": {},
   "outputs": [],
   "source": [
    "gridsearch = GridSearchCV(estimator=MLPClassifier(max_iter=300),\n",
    "                          param_grid=params,\n",
    "                          cv=5,\n",
    "                          verbose=1, n_jobs = -1) # n_jobs는 일을 집중하게 해서 빨리 돌리는 것"
   ]
  },
  {
   "cell_type": "code",
   "execution_count": 49,
   "metadata": {},
   "outputs": [
    {
     "name": "stdout",
     "output_type": "stream",
     "text": [
      "Fitting 5 folds for each of 6 candidates, totalling 30 fits\n"
     ]
    },
    {
     "name": "stderr",
     "output_type": "stream",
     "text": [
      "[Parallel(n_jobs=-1)]: Using backend LokyBackend with 4 concurrent workers.\n",
      "[Parallel(n_jobs=-1)]: Done  30 out of  30 | elapsed:   11.7s finished\n",
      "C:\\Users\\50008313\\AppData\\Local\\Continuum\\anaconda3\\lib\\site-packages\\sklearn\\neural_network\\multilayer_perceptron.py:562: ConvergenceWarning: Stochastic Optimizer: Maximum iterations (300) reached and the optimization hasn't converged yet.\n",
      "  % self.max_iter, ConvergenceWarning)\n"
     ]
    },
    {
     "data": {
      "text/plain": [
       "GridSearchCV(cv=5, error_score='raise-deprecating',\n",
       "       estimator=MLPClassifier(activation='relu', alpha=0.0001, batch_size='auto', beta_1=0.9,\n",
       "       beta_2=0.999, early_stopping=False, epsilon=1e-08,\n",
       "       hidden_layer_sizes=(100,), learning_rate='constant',\n",
       "       learning_rate_init=0.001, max_iter=300, momentum=0.9,\n",
       "       n_iter_no_change=10, nesterovs_momentum=True, power_t=0.5,\n",
       "       random_state=None, shuffle=True, solver='adam', tol=0.0001,\n",
       "       validation_fraction=0.1, verbose=False, warm_start=False),\n",
       "       fit_params=None, iid='warn', n_jobs=-1,\n",
       "       param_grid={'activation': ['logistic', 'tanh', 'relu'], 'hidden_layer_sizes': [(9,), (9, 9)]},\n",
       "       pre_dispatch='2*n_jobs', refit=True, return_train_score='warn',\n",
       "       scoring=None, verbose=1)"
      ]
     },
     "execution_count": 49,
     "metadata": {},
     "output_type": "execute_result"
    }
   ],
   "source": [
    "gridsearch.fit(X_train, Y_train)\n",
    "#[Parallel(n_jobs=-1)]: Using backend LokyBackend with 4 concurrent workers. 4개로 돌린다고 나옴"
   ]
  },
  {
   "cell_type": "code",
   "execution_count": 50,
   "metadata": {},
   "outputs": [
    {
     "name": "stderr",
     "output_type": "stream",
     "text": [
      "C:\\Users\\50008313\\AppData\\Local\\Continuum\\anaconda3\\lib\\site-packages\\sklearn\\utils\\deprecation.py:125: FutureWarning: You are accessing a training score ('split0_train_score'), which will not be available by default any more in 0.21. If you need training scores, please set return_train_score=True\n",
      "  warnings.warn(*warn_args, **warn_kwargs)\n",
      "C:\\Users\\50008313\\AppData\\Local\\Continuum\\anaconda3\\lib\\site-packages\\sklearn\\utils\\deprecation.py:125: FutureWarning: You are accessing a training score ('split1_train_score'), which will not be available by default any more in 0.21. If you need training scores, please set return_train_score=True\n",
      "  warnings.warn(*warn_args, **warn_kwargs)\n",
      "C:\\Users\\50008313\\AppData\\Local\\Continuum\\anaconda3\\lib\\site-packages\\sklearn\\utils\\deprecation.py:125: FutureWarning: You are accessing a training score ('split2_train_score'), which will not be available by default any more in 0.21. If you need training scores, please set return_train_score=True\n",
      "  warnings.warn(*warn_args, **warn_kwargs)\n",
      "C:\\Users\\50008313\\AppData\\Local\\Continuum\\anaconda3\\lib\\site-packages\\sklearn\\utils\\deprecation.py:125: FutureWarning: You are accessing a training score ('split3_train_score'), which will not be available by default any more in 0.21. If you need training scores, please set return_train_score=True\n",
      "  warnings.warn(*warn_args, **warn_kwargs)\n",
      "C:\\Users\\50008313\\AppData\\Local\\Continuum\\anaconda3\\lib\\site-packages\\sklearn\\utils\\deprecation.py:125: FutureWarning: You are accessing a training score ('split4_train_score'), which will not be available by default any more in 0.21. If you need training scores, please set return_train_score=True\n",
      "  warnings.warn(*warn_args, **warn_kwargs)\n",
      "C:\\Users\\50008313\\AppData\\Local\\Continuum\\anaconda3\\lib\\site-packages\\sklearn\\utils\\deprecation.py:125: FutureWarning: You are accessing a training score ('mean_train_score'), which will not be available by default any more in 0.21. If you need training scores, please set return_train_score=True\n",
      "  warnings.warn(*warn_args, **warn_kwargs)\n",
      "C:\\Users\\50008313\\AppData\\Local\\Continuum\\anaconda3\\lib\\site-packages\\sklearn\\utils\\deprecation.py:125: FutureWarning: You are accessing a training score ('std_train_score'), which will not be available by default any more in 0.21. If you need training scores, please set return_train_score=True\n",
      "  warnings.warn(*warn_args, **warn_kwargs)\n"
     ]
    },
    {
     "data": {
      "text/plain": [
       "{'mean_fit_time': array([0.26699996, 0.33619995, 0.27780004, 0.39599996, 0.31719985,\n",
       "        0.40419998]),\n",
       " 'std_fit_time': array([0.02785677, 0.00696852, 0.00868103, 0.0308351 , 0.05406815,\n",
       "        0.03588535]),\n",
       " 'mean_score_time': array([0.00100007, 0.00019999, 0.0006    , 0.00019999, 0.00040002,\n",
       "        0.00039997]),\n",
       " 'std_score_time': array([1.16800773e-07, 3.99971008e-04, 4.89901382e-04, 3.99971008e-04,\n",
       "        4.89920847e-04, 4.89862441e-04]),\n",
       " 'param_activation': masked_array(data=['logistic', 'logistic', 'tanh', 'tanh', 'relu', 'relu'],\n",
       "              mask=[False, False, False, False, False, False],\n",
       "        fill_value='?',\n",
       "             dtype=object),\n",
       " 'param_hidden_layer_sizes': masked_array(data=[(9,), (9, 9), (9,), (9, 9), (9,), (9, 9)],\n",
       "              mask=[False, False, False, False, False, False],\n",
       "        fill_value='?',\n",
       "             dtype=object),\n",
       " 'params': [{'activation': 'logistic', 'hidden_layer_sizes': (9,)},\n",
       "  {'activation': 'logistic', 'hidden_layer_sizes': (9, 9)},\n",
       "  {'activation': 'tanh', 'hidden_layer_sizes': (9,)},\n",
       "  {'activation': 'tanh', 'hidden_layer_sizes': (9, 9)},\n",
       "  {'activation': 'relu', 'hidden_layer_sizes': (9,)},\n",
       "  {'activation': 'relu', 'hidden_layer_sizes': (9, 9)}],\n",
       " 'split0_test_score': array([0.97272727, 0.97272727, 0.97272727, 0.96363636, 0.97272727,\n",
       "        0.97272727]),\n",
       " 'split1_test_score': array([0.94545455, 0.96363636, 0.94545455, 0.97272727, 0.95454545,\n",
       "        0.93636364]),\n",
       " 'split2_test_score': array([0.93636364, 0.91818182, 0.96363636, 0.96363636, 0.94545455,\n",
       "        0.95454545]),\n",
       " 'split3_test_score': array([0.97222222, 0.96296296, 0.9537037 , 0.97222222, 0.98148148,\n",
       "        0.98148148]),\n",
       " 'split4_test_score': array([0.91666667, 0.92592593, 0.92592593, 0.96296296, 0.94444444,\n",
       "        0.93518519]),\n",
       " 'mean_test_score': array([0.94871795, 0.94871795, 0.95238095, 0.96703297, 0.95970696,\n",
       "        0.95604396]),\n",
       " 'std_test_score': array([0.02148265, 0.02217478, 0.01604277, 0.00444794, 0.01484271,\n",
       "        0.0186711 ]),\n",
       " 'rank_test_score': array([5, 5, 4, 1, 2, 3]),\n",
       " 'split0_train_score': array([0.95642202, 0.96559633, 0.96330275, 0.97247706, 0.96788991,\n",
       "        0.97477064]),\n",
       " 'split1_train_score': array([0.9587156 , 0.96330275, 0.95412844, 0.9793578 , 0.96330275,\n",
       "        0.96559633]),\n",
       " 'split2_train_score': array([0.96100917, 0.95412844, 0.96330275, 0.97018349, 0.97018349,\n",
       "        0.97706422]),\n",
       " 'split3_train_score': array([0.95890411, 0.96347032, 0.95890411, 0.97716895, 0.97260274,\n",
       "        0.97488584]),\n",
       " 'split4_train_score': array([0.956621  , 0.96803653, 0.97031963, 0.98401826, 0.96803653,\n",
       "        0.97260274]),\n",
       " 'mean_train_score': array([0.95833438, 0.96290687, 0.96199154, 0.97664111, 0.96840308,\n",
       "        0.97298396]),\n",
       " 'std_train_score': array([0.00168625, 0.00471342, 0.00536947, 0.00492182, 0.00307305,\n",
       "        0.00395425])}"
      ]
     },
     "execution_count": 50,
     "metadata": {},
     "output_type": "execute_result"
    }
   ],
   "source": [
    "gridsearch.cv_results_"
   ]
  },
  {
   "cell_type": "code",
   "execution_count": 45,
   "metadata": {},
   "outputs": [
    {
     "data": {
      "text/plain": [
       "{'activation': 'relu', 'hidden_layer_sizes': (9, 9)}"
      ]
     },
     "execution_count": 45,
     "metadata": {},
     "output_type": "execute_result"
    }
   ],
   "source": [
    "gridsearch.best_params_"
   ]
  },
  {
   "cell_type": "code",
   "execution_count": 46,
   "metadata": {},
   "outputs": [
    {
     "data": {
      "text/plain": [
       "0.9652014652014652"
      ]
     },
     "execution_count": 46,
     "metadata": {},
     "output_type": "execute_result"
    }
   ],
   "source": [
    "gridsearch.best_score_"
   ]
  },
  {
   "cell_type": "code",
   "execution_count": 47,
   "metadata": {},
   "outputs": [
    {
     "data": {
      "text/plain": [
       "MLPClassifier(activation='relu', alpha=0.0001, batch_size='auto', beta_1=0.9,\n",
       "       beta_2=0.999, early_stopping=False, epsilon=1e-08,\n",
       "       hidden_layer_sizes=(9, 9), learning_rate='constant',\n",
       "       learning_rate_init=0.001, max_iter=300, momentum=0.9,\n",
       "       n_iter_no_change=10, nesterovs_momentum=True, power_t=0.5,\n",
       "       random_state=None, shuffle=True, solver='adam', tol=0.0001,\n",
       "       validation_fraction=0.1, verbose=False, warm_start=False)"
      ]
     },
     "execution_count": 47,
     "metadata": {},
     "output_type": "execute_result"
    }
   ],
   "source": [
    "gridsearch.best_estimator_"
   ]
  },
  {
   "cell_type": "code",
   "execution_count": 41,
   "metadata": {},
   "outputs": [],
   "source": [
    "Y_train_hat = gridsearch.predict(X_train)\n",
    "Y_test_hat = gridsearch.predict(X_test)"
   ]
  },
  {
   "cell_type": "code",
   "execution_count": 42,
   "metadata": {},
   "outputs": [
    {
     "name": "stdout",
     "output_type": "stream",
     "text": [
      "             precision    recall  f1-score   support\n",
      "\n",
      "        2.0       0.98      0.96      0.97       363\n",
      "        4.0       0.93      0.96      0.94       183\n",
      "\n",
      "avg / total       0.96      0.96      0.96       546\n",
      "\n"
     ]
    }
   ],
   "source": [
    "print(metrics.classification_report(Y_train, Y_train_hat))"
   ]
  },
  {
   "cell_type": "code",
   "execution_count": 43,
   "metadata": {},
   "outputs": [
    {
     "name": "stdout",
     "output_type": "stream",
     "text": [
      "             precision    recall  f1-score   support\n",
      "\n",
      "        2.0       0.91      0.95      0.93        81\n",
      "        4.0       0.92      0.86      0.89        56\n",
      "\n",
      "avg / total       0.91      0.91      0.91       137\n",
      "\n"
     ]
    }
   ],
   "source": [
    "print(metrics.classification_report(Y_test, Y_test_hat))"
   ]
  },
  {
   "cell_type": "markdown",
   "metadata": {},
   "source": [
    "### Learn MLP-classifier model"
   ]
  },
  {
   "cell_type": "code",
   "execution_count": null,
   "metadata": {},
   "outputs": [],
   "source": [
    "# Evaluate Algorithms\n",
    "# Test options and evaluation metric\n",
    "num_folds = 5\n",
    "num_instances = len(X_train)\n",
    "seed = 7\n",
    "scoring = 'accuracy'"
   ]
  },
  {
   "cell_type": "code",
   "execution_count": null,
   "metadata": {},
   "outputs": [],
   "source": [
    "models = []\n",
    "models.append(('MLP', MLPClassifier()))\n",
    "models.append(('ScaledMLP_v1', Pipeline([('Scaler', MinMaxScaler(feature_range=(0,1))),('MLP', MLPClassifier())])))\n",
    "models.append(('ScaledMLP_v2', Pipeline([('Scaler', MinMaxScaler(feature_range=(-1,1))),('MLP', MLPClassifier())])))"
   ]
  },
  {
   "cell_type": "code",
   "execution_count": null,
   "metadata": {
    "scrolled": true
   },
   "outputs": [],
   "source": [
    "models"
   ]
  },
  {
   "cell_type": "code",
   "execution_count": null,
   "metadata": {
    "scrolled": true
   },
   "outputs": [],
   "source": [
    "results = []\n",
    "names = []\n",
    "for name, model in models:\n",
    "\tkfold = cross_validation.KFold(n=num_instances, n_folds=num_folds, random_state=seed)\n",
    "\tcv_results = cross_validation.cross_val_score(model, X_train, Y_train, cv=kfold, scoring=scoring)\n",
    "\tresults.append(cv_results)\n",
    "\tnames.append(name)\n",
    "\tmsg = \"%s: %f (%f)\" % (name, cv_results.mean(), cv_results.std())\n",
    "\tprint(msg)"
   ]
  },
  {
   "cell_type": "code",
   "execution_count": null,
   "metadata": {},
   "outputs": [],
   "source": [
    "results"
   ]
  },
  {
   "cell_type": "code",
   "execution_count": null,
   "metadata": {
    "scrolled": true
   },
   "outputs": [],
   "source": [
    "# Compare Algorithms\n",
    "fig = plt.figure()\n",
    "fig.suptitle('Algorithm Comparison')\n",
    "ax = fig.add_subplot(111)\n",
    "plt.boxplot(results)\n",
    "ax.set_xticklabels(names)\n",
    "plt.show()"
   ]
  },
  {
   "cell_type": "code",
   "execution_count": null,
   "metadata": {
    "scrolled": true
   },
   "outputs": [],
   "source": [
    "models[0]"
   ]
  },
  {
   "cell_type": "code",
   "execution_count": null,
   "metadata": {},
   "outputs": [],
   "source": [
    "from sklearn.externals import joblib\n",
    "joblib.dump(models[0], 'MLP.pkl')"
   ]
  },
  {
   "cell_type": "code",
   "execution_count": null,
   "metadata": {},
   "outputs": [],
   "source": [
    "test_model = joblib.load('MLP.pkl')\n",
    "print(test_model)"
   ]
  },
  {
   "cell_type": "code",
   "execution_count": null,
   "metadata": {},
   "outputs": [],
   "source": [
    "test_model = test_model[1]\n",
    "print(test_model)"
   ]
  },
  {
   "cell_type": "code",
   "execution_count": null,
   "metadata": {},
   "outputs": [],
   "source": [
    "test_model.predict(new_case)"
   ]
  },
  {
   "cell_type": "markdown",
   "metadata": {},
   "source": [
    "### Search parameters\n",
    "- 자세한 사항: http://scikit-learn.org/stable/modules/generated/sklearn.neural_network.MLPClassifier.html\n",
    "- hidden_layer_sizes (number of hidden nodes in each hidden layer, type: tuple)\n",
    "- activation (activation function for the hidden layer): 'logistic', 'tanh', 'relu', 'identity'\n",
    "- solver (strategies for learning weights) : 'lbfgs, 'sgd', 'adam'"
   ]
  },
  {
   "cell_type": "markdown",
   "metadata": {},
   "source": [
    "## 2. MNIST data\n",
    "- Visualization of MLP weights on MNIST (http://scikit-learn.org/stable/auto_examples/neural_networks/plot_mnist_filters.html)"
   ]
  },
  {
   "cell_type": "code",
   "execution_count": null,
   "metadata": {},
   "outputs": [],
   "source": [
    "import matplotlib.pyplot as plt\n",
    "from sklearn.datasets import fetch_mldata\n",
    "from sklearn.neural_network import MLPClassifier\n",
    "\n",
    "mnist = fetch_mldata(\"MNIST original\")\n",
    "# rescale the data, use the traditional train/test split\n",
    "X, y = mnist.data / 255., mnist.target\n",
    "X_train, X_test = X[:60000], X[60000:]\n",
    "y_train, y_test = y[:60000], y[60000:]\n",
    "\n",
    "# mlp = MLPClassifier(hidden_layer_sizes=(100, 100), max_iter=400, alpha=1e-4,\n",
    "#                     solver='sgd', verbose=10, tol=1e-4, random_state=1)\n",
    "mlp = MLPClassifier(hidden_layer_sizes=(50,), max_iter=10, alpha=1e-4,\n",
    "                    solver='sgd', verbose=10, tol=1e-4, random_state=1,\n",
    "                    learning_rate_init=.1)\n",
    "\n",
    "mlp.fit(X_train, y_train)\n",
    "print(\"Training set score: %f\" % mlp.score(X_train, y_train))\n",
    "print(\"Test set score: %f\" % mlp.score(X_test, y_test))\n",
    "\n",
    "fig, axes = plt.subplots(4, 4)\n",
    "# use global min / max to ensure all weights are shown on the same scale\n",
    "vmin, vmax = mlp.coefs_[0].min(), mlp.coefs_[0].max()\n",
    "for coef, ax in zip(mlp.coefs_[0].T, axes.ravel()):\n",
    "    ax.matshow(coef.reshape(28, 28), cmap=plt.cm.gray, vmin=.5 * vmin,\n",
    "               vmax=.5 * vmax)\n",
    "    ax.set_xticks(())\n",
    "    ax.set_yticks(())\n",
    "\n",
    "plt.show()"
   ]
  },
  {
   "cell_type": "code",
   "execution_count": null,
   "metadata": {},
   "outputs": [],
   "source": []
  }
 ],
 "metadata": {
  "anaconda-cloud": {},
  "kernelspec": {
   "display_name": "Python 3",
   "language": "python",
   "name": "python3"
  },
  "language_info": {
   "codemirror_mode": {
    "name": "ipython",
    "version": 3
   },
   "file_extension": ".py",
   "mimetype": "text/x-python",
   "name": "python",
   "nbconvert_exporter": "python",
   "pygments_lexer": "ipython3",
   "version": "3.7.1"
  }
 },
 "nbformat": 4,
 "nbformat_minor": 1
}
